{
 "cells": [
  {
   "cell_type": "markdown",
   "metadata": {},
   "source": [
    "# Домашня робота №2"
   ]
  },
  {
   "cell_type": "markdown",
   "metadata": {},
   "source": [
    "## 1 Пароль\n",
    "Напишіть програму (функцію) для генерування випадкового пароля з такими обмеженнями:\n",
    "- пароль складається з рівно $10$ символів\n",
    "- пароль містить хоча б одну маленьку латинську літеру [a-z]\n",
    "- пароль містить хоча б одну велику латинську літеру [A-Z]\n",
    "- пароль містить хоча б одну цифру [0-9]\n",
    "- пароль містить хоча б один спеціальний символ [~!@#$%^&*()-_+=\\/{}[].,?<>:;]"
   ]
  },
  {
   "cell_type": "code",
   "execution_count": 1,
   "metadata": {},
   "outputs": [
    {
     "name": "stdout",
     "output_type": "stream",
     "text": [
      "Пароль:  2Os5xW5,;S\n"
     ]
    }
   ],
   "source": [
    "import random\n",
    "import numpy as np\n",
    "password = []\n",
    "password.append(random.choice(list('1234567890')))\n",
    "password.append(random.choice(list('abcdefghigklmnopqrstuvyxwz')))\n",
    "password.append(random.choice(list('ABCDEFGHIGKLMNOPQRSTUVYXWZ')))\n",
    "password.append(random.choice(list('~!@#$%^&*()-_+=/{}[].,?<>:;')))\n",
    "for i in range(6): \n",
    "    password.append(random.choice(list('1234567890abcdefghigklmnopqrstuvyxwzABCDEFGHIGKLMNOPQRSTUVYXWZ~!@#$%^&*()-_+=/{}[].,?<>:;')))\n",
    "np.random.shuffle(password)\n",
    "password = \"\".join(password)\n",
    "print('Пароль: ', password)\n",
    "\n"
   ]
  },
  {
   "cell_type": "markdown",
   "metadata": {},
   "source": [
    "## 2 Герби в ряд\n",
    "Реалізуйте функцію для обчислення емпіричної та теоретичної імовірностей випадіння $k$ гербів (HEADS) підряд у серії з $n$ підкидань чесної монетки. Підрахуйте відповідні ймовірності для таких параметрів:\n",
    "- $k = 2, n = 10, 50, 100, 500, 1000, 5000, 10000$\n",
    "- $k = 3, n = 10, 50, 100, 500, 1000, 5000, 10000$\n",
    "\n",
    "**Зауваження.** Нехай $k = 2, n = 10$ та маємо таку послідовність результатів підкидання монети: $\\{ H, T, H, H, H, H, T, T, H, T \\}$. Тоді матимемо $3$ випадки випадіння двох гербів підряд та емпіричну ймовірність такої події $1/3$."
   ]
  },
  {
   "cell_type": "code",
   "execution_count": 6,
   "metadata": {},
   "outputs": [
    {
     "name": "stdout",
     "output_type": "stream",
     "text": [
      "n = 10, k = 2,\n",
      " Теоретична: 0.25, Імперична:  0.0\n",
      "\n",
      "n = 50, k = 2,\n",
      " Теоретична: 0.25, Імперична:  0.24489795918367346\n",
      "\n",
      "n = 100, k = 2,\n",
      " Теоретична: 0.25, Імперична:  0.2727272727272727\n",
      "\n",
      "n = 500, k = 2,\n",
      " Теоретична: 0.25, Імперична:  0.22845691382765532\n",
      "\n",
      "n = 1000, k = 2,\n",
      " Теоретична: 0.25, Імперична:  0.26926926926926925\n",
      "\n",
      "n = 5000, k = 2,\n",
      " Теоретична: 0.25, Імперична:  0.2460492098419684\n",
      "\n",
      "n = 10000, k = 2,\n",
      " Теоретична: 0.25, Імперична:  0.24992499249924993\n",
      "\n",
      "n = 10, k = 3,\n",
      " Теоретична: 0.125, Імперична:  0.125\n",
      "\n",
      "n = 50, k = 3,\n",
      " Теоретична: 0.125, Імперична:  0.08333333333333333\n",
      "\n",
      "n = 100, k = 3,\n",
      " Теоретична: 0.125, Імперична:  0.07142857142857142\n",
      "\n",
      "n = 500, k = 3,\n",
      " Теоретична: 0.125, Імперична:  0.15261044176706828\n",
      "\n",
      "n = 1000, k = 3,\n",
      " Теоретична: 0.125, Імперична:  0.13827655310621242\n",
      "\n",
      "n = 5000, k = 3,\n",
      " Теоретична: 0.125, Імперична:  0.12965186074429771\n",
      "\n",
      "n = 10000, k = 3,\n",
      " Теоретична: 0.125, Імперична:  0.120624124824965\n",
      "\n"
     ]
    }
   ],
   "source": [
    "import math\n",
    "\n",
    "def emperical(k, n):\n",
    "    tosses = np.random.choice(['H', 'T'], n)\n",
    "    count = 0\n",
    "    for i in range(n - k + 1):\n",
    "        q = True\n",
    "        for j in range(i, i + k):\n",
    "            if tosses[j] != 'H':\n",
    "                q = False\n",
    "                break\n",
    "        if q:\n",
    "            count += 1\n",
    "    return count/(n - k + 1)\n",
    "\n",
    "def theoretical(k):\n",
    "    return 1/2**k\n",
    "\n",
    "\n",
    "for k in [2, 3]:\n",
    "    for n in [10, 50, 100, 500, 1000, 5000, 10000]:\n",
    "        print(\"n = {}, k = {},\\n Теоретична: {}, Імперична:  {}\\n\".format(n, k, theoretical(k), empirical(k, n)))\n",
    "\n"
   ]
  },
  {
   "cell_type": "markdown",
   "metadata": {},
   "source": [
    "## 3 Найбільше число\n",
    "Реалізуйте функцію підрахунку точної (теоретичної) імовірності того, що максимальне число після $n$ кидків звичайного грального кубика дорівнює $x\\_max$, для таких параметрів:\n",
    "- $n = 3, x\\_max = 6$\n",
    "- $n = 2, x\\_max = 3$\n",
    "- $n = 3, x\\_max = 5$\n",
    "\n",
    "Тобто, якщо $X_i, i = 1, \\ldots, n$, - число на $i$-му кидку кубика, а $X = \\max\\limits_{1 \\leq i \\leq n} X_i$, то потрібно знайти ймовірність $\\textbf{P} \\left( X = x\\_max \\right)$.\n",
    "\n",
    "Підрахуйте також емпіричні ймовірності відповідних подій у випадку $10000$ симуляцій.\n",
    "\n",
    "**Зауваження.** Якщо введені параметри не мають сенсу, то повертати $0$.\n",
    "Тобто, якщо вводиться $x\\_max < 1$ або $x\\_max > 6$."
   ]
  },
  {
   "cell_type": "code",
   "execution_count": 7,
   "metadata": {},
   "outputs": [
    {
     "name": "stdout",
     "output_type": "stream",
     "text": [
      "n = 3, x_max = 6 \n",
      "Теоретична: 0.4212962962962963, Імперична: 0.4157\n",
      "\n",
      "n = 2, x_max = 3 \n",
      "Теоретична: 0.1388888888888889, Імперична: 0.1412\n",
      "\n",
      "n = 3, x_max = 5 \n",
      "Теоретична: 0.2824074074074074, Імперична: 0.2862\n",
      "\n"
     ]
    }
   ],
   "source": [
    "def emperical(n, x_max):\n",
    "    assert 1 <= x_max <= 6, '0'\n",
    "    count = 0\n",
    "    q = 10000\n",
    "    for i in range(q):\n",
    "        tosses = np.random.choice(range(1, 7), n)\n",
    "        if max(tosses) == x_max:\n",
    "            count += 1\n",
    "    return count/q\n",
    "\n",
    "\n",
    "def theoretical(n, x_max):\n",
    "    assert 1 <= x_max <= 6, '0'\n",
    "    return (x_max ** n - (x_max - 1) ** n) / 6 ** n\n",
    "\n",
    "\n",
    "for n, x_max in [(3, 6), (2, 3), (3, 5)]:\n",
    "    print(\"n = {}, x_max = {} \\nТеоретична: {}, Імперична: {}\\n\".format(n, x_max, theoretical(n, x_max), emperical(n, x_max)))\n",
    "\n"
   ]
  },
  {
   "cell_type": "markdown",
   "metadata": {},
   "source": [
    "## 4 Сума чисел\n",
    "Реалізуйте функцію підрахунку точної (теоретичної) імовірності того, що сума чисел після $n$ кидків звичайного грального кубика дорівнює $s$, для таких параметрів:\n",
    "- $n = 3, s = 13$\n",
    "- $n = 2, s = 5$\n",
    "- $n = 3, s = 7$\n",
    "\n",
    "Тобто, якщо $X_i, i = 1, \\ldots, n$, - число на $i$-му кидку кубика, а $X = \\sum\\limits_{i = 1}^{n} X_i$, то потрібно знайти ймовірність $\\textbf{P} \\left( X = s \\right)$.\n",
    "\n",
    "Підрахуйте також емпіричні ймовірності відповідних подій у випадку $10000$ симуляцій.\n",
    "\n",
    "**Зауваження.** Якщо введені параметри не мають сенсу, то повертати $0$.\n",
    "Наприклад, якщо при $n = 3$ вводиться $s < 3$ або $s > 18$."
   ]
  },
  {
   "cell_type": "code",
   "execution_count": 8,
   "metadata": {},
   "outputs": [
    {
     "name": "stdout",
     "output_type": "stream",
     "text": [
      "n = 3, s = 13 \n",
      "Теоретична: 0.09722222222222222, Імперична: 0.0978\n",
      "\n",
      "n = 2, s = 5 \n",
      "Теоретична: 0.1111111111111111, Імперична: 0.107\n",
      "\n",
      "n = 3, s = 7 \n",
      "Теоретична: 0.06944444444444445, Імперична: 0.0706\n",
      "\n"
     ]
    }
   ],
   "source": [
    "from itertools import product\n",
    "\n",
    "def emperical(n, s):\n",
    "    assert n < s < n*6, '0'\n",
    "    q = 10000\n",
    "    count = 0\n",
    "    for i in range(q):\n",
    "        tosses = np.random.choice(range(1, 7), n)\n",
    "        if sum(tosses) == s:\n",
    "            count += 1\n",
    "    return count/q\n",
    "\n",
    "def theoretical(n, s):\n",
    "    assert n < s < n*6, '0'\n",
    "    count = 0\n",
    "    q = range(1, 7)\n",
    "    for i in product(q, repeat = n):\n",
    "        if sum(i) == s:\n",
    "            count += 1\n",
    "    return count / 6 ** n\n",
    "\n",
    "for n, s in [(3, 13), (2, 5), (3, 7)]:\n",
    "    print(\"n = {}, s = {} \\nТеоретична: {}, Імперична: {}\\n\".format(n, s, theoretical(n, s), emperical(n, s)))\n",
    "\n"
   ]
  },
  {
   "cell_type": "code",
   "execution_count": null,
   "metadata": {},
   "outputs": [],
   "source": []
  },
  {
   "cell_type": "code",
   "execution_count": null,
   "metadata": {},
   "outputs": [],
   "source": []
  }
 ],
 "metadata": {
  "kernelspec": {
   "display_name": "Python 3",
   "language": "python",
   "name": "python3"
  },
  "language_info": {
   "codemirror_mode": {
    "name": "ipython",
    "version": 3
   },
   "file_extension": ".py",
   "mimetype": "text/x-python",
   "name": "python",
   "nbconvert_exporter": "python",
   "pygments_lexer": "ipython3",
   "version": "3.7.1"
  }
 },
 "nbformat": 4,
 "nbformat_minor": 1
}
